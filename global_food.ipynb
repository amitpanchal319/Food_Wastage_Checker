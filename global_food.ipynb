{
 "cells": [
  {
   "cell_type": "code",
   "execution_count": 103,
   "metadata": {},
   "outputs": [],
   "source": [
    "import pandas as pd\n",
    "import numpy as np \n",
    "import seaborn as sns \n",
    "import matplotlib.pyplot as plt"
   ]
  },
  {
   "cell_type": "code",
   "execution_count": 104,
   "metadata": {},
   "outputs": [],
   "source": [
    "df = pd.read_csv(r\"global_food_wastage_dataset.csv\")"
   ]
  },
  {
   "cell_type": "code",
   "execution_count": 105,
   "metadata": {},
   "outputs": [
    {
     "data": {
      "text/html": [
       "<div>\n",
       "<style scoped>\n",
       "    .dataframe tbody tr th:only-of-type {\n",
       "        vertical-align: middle;\n",
       "    }\n",
       "\n",
       "    .dataframe tbody tr th {\n",
       "        vertical-align: top;\n",
       "    }\n",
       "\n",
       "    .dataframe thead th {\n",
       "        text-align: right;\n",
       "    }\n",
       "</style>\n",
       "<table border=\"1\" class=\"dataframe\">\n",
       "  <thead>\n",
       "    <tr style=\"text-align: right;\">\n",
       "      <th></th>\n",
       "      <th>Country</th>\n",
       "      <th>Year</th>\n",
       "      <th>Food Category</th>\n",
       "      <th>Total Waste (Tons)</th>\n",
       "      <th>Economic Loss (Million $)</th>\n",
       "      <th>Avg Waste per Capita (Kg)</th>\n",
       "      <th>Population (Million)</th>\n",
       "      <th>Household Waste (%)</th>\n",
       "    </tr>\n",
       "  </thead>\n",
       "  <tbody>\n",
       "    <tr>\n",
       "      <th>0</th>\n",
       "      <td>Australia</td>\n",
       "      <td>2019</td>\n",
       "      <td>Fruits &amp; Vegetables</td>\n",
       "      <td>19268.63</td>\n",
       "      <td>18686.68</td>\n",
       "      <td>72.69</td>\n",
       "      <td>87.59</td>\n",
       "      <td>53.64</td>\n",
       "    </tr>\n",
       "    <tr>\n",
       "      <th>1</th>\n",
       "      <td>Indonesia</td>\n",
       "      <td>2019</td>\n",
       "      <td>Prepared Food</td>\n",
       "      <td>3916.97</td>\n",
       "      <td>4394.48</td>\n",
       "      <td>192.52</td>\n",
       "      <td>1153.99</td>\n",
       "      <td>30.61</td>\n",
       "    </tr>\n",
       "    <tr>\n",
       "      <th>2</th>\n",
       "      <td>Germany</td>\n",
       "      <td>2022</td>\n",
       "      <td>Dairy Products</td>\n",
       "      <td>9700.16</td>\n",
       "      <td>8909.16</td>\n",
       "      <td>166.94</td>\n",
       "      <td>1006.11</td>\n",
       "      <td>48.08</td>\n",
       "    </tr>\n",
       "    <tr>\n",
       "      <th>3</th>\n",
       "      <td>France</td>\n",
       "      <td>2023</td>\n",
       "      <td>Fruits &amp; Vegetables</td>\n",
       "      <td>46299.69</td>\n",
       "      <td>40551.22</td>\n",
       "      <td>120.19</td>\n",
       "      <td>953.05</td>\n",
       "      <td>31.91</td>\n",
       "    </tr>\n",
       "  </tbody>\n",
       "</table>\n",
       "</div>"
      ],
      "text/plain": [
       "     Country  Year        Food Category  Total Waste (Tons)  \\\n",
       "0  Australia  2019  Fruits & Vegetables            19268.63   \n",
       "1  Indonesia  2019        Prepared Food             3916.97   \n",
       "2    Germany  2022       Dairy Products             9700.16   \n",
       "3     France  2023  Fruits & Vegetables            46299.69   \n",
       "\n",
       "   Economic Loss (Million $)  Avg Waste per Capita (Kg)  Population (Million)  \\\n",
       "0                   18686.68                      72.69                 87.59   \n",
       "1                    4394.48                     192.52               1153.99   \n",
       "2                    8909.16                     166.94               1006.11   \n",
       "3                   40551.22                     120.19                953.05   \n",
       "\n",
       "   Household Waste (%)  \n",
       "0                53.64  \n",
       "1                30.61  \n",
       "2                48.08  \n",
       "3                31.91  "
      ]
     },
     "execution_count": 105,
     "metadata": {},
     "output_type": "execute_result"
    }
   ],
   "source": [
    "df.head(4)"
   ]
  },
  {
   "cell_type": "code",
   "execution_count": 106,
   "metadata": {},
   "outputs": [
    {
     "data": {
      "text/plain": [
       "Index(['Country', 'Year', 'Food Category', 'Total Waste (Tons)',\n",
       "       'Economic Loss (Million $)', 'Avg Waste per Capita (Kg)',\n",
       "       'Population (Million)', 'Household Waste (%)'],\n",
       "      dtype='object')"
      ]
     },
     "execution_count": 106,
     "metadata": {},
     "output_type": "execute_result"
    }
   ],
   "source": [
    "df.columns"
   ]
  },
  {
   "cell_type": "code",
   "execution_count": 107,
   "metadata": {},
   "outputs": [
    {
     "name": "stdout",
     "output_type": "stream",
     "text": [
      "<class 'pandas.core.frame.DataFrame'>\n",
      "RangeIndex: 5000 entries, 0 to 4999\n",
      "Data columns (total 8 columns):\n",
      " #   Column                     Non-Null Count  Dtype  \n",
      "---  ------                     --------------  -----  \n",
      " 0   Country                    5000 non-null   object \n",
      " 1   Year                       5000 non-null   int64  \n",
      " 2   Food Category              5000 non-null   object \n",
      " 3   Total Waste (Tons)         5000 non-null   float64\n",
      " 4   Economic Loss (Million $)  5000 non-null   float64\n",
      " 5   Avg Waste per Capita (Kg)  5000 non-null   float64\n",
      " 6   Population (Million)       5000 non-null   float64\n",
      " 7   Household Waste (%)        5000 non-null   float64\n",
      "dtypes: float64(5), int64(1), object(2)\n",
      "memory usage: 312.6+ KB\n"
     ]
    }
   ],
   "source": [
    "df.info()"
   ]
  },
  {
   "cell_type": "code",
   "execution_count": 108,
   "metadata": {},
   "outputs": [
    {
     "data": {
      "text/plain": [
       "Country                      0\n",
       "Year                         0\n",
       "Food Category                0\n",
       "Total Waste (Tons)           0\n",
       "Economic Loss (Million $)    0\n",
       "Avg Waste per Capita (Kg)    0\n",
       "Population (Million)         0\n",
       "Household Waste (%)          0\n",
       "dtype: int64"
      ]
     },
     "execution_count": 108,
     "metadata": {},
     "output_type": "execute_result"
    }
   ],
   "source": [
    "df.isnull().sum()"
   ]
  },
  {
   "cell_type": "code",
   "execution_count": 109,
   "metadata": {},
   "outputs": [
    {
     "data": {
      "text/html": [
       "<div>\n",
       "<style scoped>\n",
       "    .dataframe tbody tr th:only-of-type {\n",
       "        vertical-align: middle;\n",
       "    }\n",
       "\n",
       "    .dataframe tbody tr th {\n",
       "        vertical-align: top;\n",
       "    }\n",
       "\n",
       "    .dataframe thead th {\n",
       "        text-align: right;\n",
       "    }\n",
       "</style>\n",
       "<table border=\"1\" class=\"dataframe\">\n",
       "  <thead>\n",
       "    <tr style=\"text-align: right;\">\n",
       "      <th></th>\n",
       "      <th>Country</th>\n",
       "      <th>Year</th>\n",
       "      <th>Food Category</th>\n",
       "      <th>Total Waste (Tons)</th>\n",
       "      <th>Economic Loss (Million $)</th>\n",
       "      <th>Avg Waste per Capita (Kg)</th>\n",
       "      <th>Population (Million)</th>\n",
       "      <th>Household Waste (%)</th>\n",
       "    </tr>\n",
       "  </thead>\n",
       "  <tbody>\n",
       "    <tr>\n",
       "      <th>0</th>\n",
       "      <td>Australia</td>\n",
       "      <td>2019</td>\n",
       "      <td>Fruits &amp; Vegetables</td>\n",
       "      <td>19268.63</td>\n",
       "      <td>18686.68</td>\n",
       "      <td>72.69</td>\n",
       "      <td>87.59</td>\n",
       "      <td>53.64</td>\n",
       "    </tr>\n",
       "    <tr>\n",
       "      <th>1</th>\n",
       "      <td>Indonesia</td>\n",
       "      <td>2019</td>\n",
       "      <td>Prepared Food</td>\n",
       "      <td>3916.97</td>\n",
       "      <td>4394.48</td>\n",
       "      <td>192.52</td>\n",
       "      <td>1153.99</td>\n",
       "      <td>30.61</td>\n",
       "    </tr>\n",
       "  </tbody>\n",
       "</table>\n",
       "</div>"
      ],
      "text/plain": [
       "     Country  Year        Food Category  Total Waste (Tons)  \\\n",
       "0  Australia  2019  Fruits & Vegetables            19268.63   \n",
       "1  Indonesia  2019        Prepared Food             3916.97   \n",
       "\n",
       "   Economic Loss (Million $)  Avg Waste per Capita (Kg)  Population (Million)  \\\n",
       "0                   18686.68                      72.69                 87.59   \n",
       "1                    4394.48                     192.52               1153.99   \n",
       "\n",
       "   Household Waste (%)  \n",
       "0                53.64  \n",
       "1                30.61  "
      ]
     },
     "execution_count": 109,
     "metadata": {},
     "output_type": "execute_result"
    }
   ],
   "source": [
    "df.head(2)"
   ]
  },
  {
   "cell_type": "code",
   "execution_count": 110,
   "metadata": {},
   "outputs": [],
   "source": [
    "cat_cols = ['Country', \"Food Category\",'Year']"
   ]
  },
  {
   "cell_type": "code",
   "execution_count": 111,
   "metadata": {},
   "outputs": [],
   "source": [
    "num_cols = ['Total Waste (Tons)', 'Economic Loss (Million $)', 'Avg Waste per Capita (Kg)', 'Population (Million)', 'Household Waste (%)']"
   ]
  },
  {
   "cell_type": "markdown",
   "metadata": {},
   "source": [
    "Encoding for Cat cols"
   ]
  },
  {
   "cell_type": "code",
   "execution_count": 112,
   "metadata": {},
   "outputs": [
    {
     "data": {
      "text/plain": [
       "Country\n",
       "Germany         287\n",
       "Spain           274\n",
       "China           262\n",
       "Brazil          258\n",
       "USA             257\n",
       "India           257\n",
       "Turkey          256\n",
       "Canada          254\n",
       "Italy           253\n",
       "Mexico          251\n",
       "South Africa    245\n",
       "Indonesia       244\n",
       "UK              242\n",
       "South Korea     241\n",
       "Japan           240\n",
       "Saudi Arabia    239\n",
       "France          239\n",
       "Argentina       238\n",
       "Russia          237\n",
       "Australia       226\n",
       "Name: count, dtype: int64"
      ]
     },
     "execution_count": 112,
     "metadata": {},
     "output_type": "execute_result"
    }
   ],
   "source": [
    "df['Country'].value_counts()"
   ]
  },
  {
   "cell_type": "code",
   "execution_count": 113,
   "metadata": {},
   "outputs": [
    {
     "data": {
      "text/plain": [
       "Food Category\n",
       "Prepared Food          711\n",
       "Beverages              639\n",
       "Bakery Items           630\n",
       "Fruits & Vegetables    620\n",
       "Dairy Products         616\n",
       "Meat & Seafood         605\n",
       "Frozen Food            596\n",
       "Grains & Cereals       583\n",
       "Name: count, dtype: int64"
      ]
     },
     "execution_count": 113,
     "metadata": {},
     "output_type": "execute_result"
    }
   ],
   "source": [
    "df['Food Category'].value_counts()"
   ]
  },
  {
   "cell_type": "code",
   "execution_count": 114,
   "metadata": {},
   "outputs": [
    {
     "data": {
      "text/plain": [
       "Year\n",
       "2023    737\n",
       "2021    734\n",
       "2020    731\n",
       "2024    721\n",
       "2018    708\n",
       "2019    691\n",
       "2022    678\n",
       "Name: count, dtype: int64"
      ]
     },
     "execution_count": 114,
     "metadata": {},
     "output_type": "execute_result"
    }
   ],
   "source": [
    "df['Year'].value_counts()"
   ]
  },
  {
   "cell_type": "code",
   "execution_count": 115,
   "metadata": {},
   "outputs": [],
   "source": [
    "df = pd.get_dummies(df, columns=['Country', 'Food Category', 'Year'], drop_first=True)"
   ]
  },
  {
   "cell_type": "code",
   "execution_count": 116,
   "metadata": {},
   "outputs": [],
   "source": [
    "df = df.astype(int)"
   ]
  },
  {
   "cell_type": "code",
   "execution_count": 117,
   "metadata": {},
   "outputs": [
    {
     "data": {
      "text/html": [
       "<div>\n",
       "<style scoped>\n",
       "    .dataframe tbody tr th:only-of-type {\n",
       "        vertical-align: middle;\n",
       "    }\n",
       "\n",
       "    .dataframe tbody tr th {\n",
       "        vertical-align: top;\n",
       "    }\n",
       "\n",
       "    .dataframe thead th {\n",
       "        text-align: right;\n",
       "    }\n",
       "</style>\n",
       "<table border=\"1\" class=\"dataframe\">\n",
       "  <thead>\n",
       "    <tr style=\"text-align: right;\">\n",
       "      <th></th>\n",
       "      <th>Total Waste (Tons)</th>\n",
       "      <th>Economic Loss (Million $)</th>\n",
       "      <th>Avg Waste per Capita (Kg)</th>\n",
       "      <th>Population (Million)</th>\n",
       "      <th>Household Waste (%)</th>\n",
       "      <th>Country_Australia</th>\n",
       "      <th>Country_Brazil</th>\n",
       "      <th>Country_Canada</th>\n",
       "      <th>Country_China</th>\n",
       "      <th>Country_France</th>\n",
       "      <th>...</th>\n",
       "      <th>Food Category_Fruits &amp; Vegetables</th>\n",
       "      <th>Food Category_Grains &amp; Cereals</th>\n",
       "      <th>Food Category_Meat &amp; Seafood</th>\n",
       "      <th>Food Category_Prepared Food</th>\n",
       "      <th>Year_2019</th>\n",
       "      <th>Year_2020</th>\n",
       "      <th>Year_2021</th>\n",
       "      <th>Year_2022</th>\n",
       "      <th>Year_2023</th>\n",
       "      <th>Year_2024</th>\n",
       "    </tr>\n",
       "  </thead>\n",
       "  <tbody>\n",
       "    <tr>\n",
       "      <th>0</th>\n",
       "      <td>19268</td>\n",
       "      <td>18686</td>\n",
       "      <td>72</td>\n",
       "      <td>87</td>\n",
       "      <td>53</td>\n",
       "      <td>1</td>\n",
       "      <td>0</td>\n",
       "      <td>0</td>\n",
       "      <td>0</td>\n",
       "      <td>0</td>\n",
       "      <td>...</td>\n",
       "      <td>1</td>\n",
       "      <td>0</td>\n",
       "      <td>0</td>\n",
       "      <td>0</td>\n",
       "      <td>1</td>\n",
       "      <td>0</td>\n",
       "      <td>0</td>\n",
       "      <td>0</td>\n",
       "      <td>0</td>\n",
       "      <td>0</td>\n",
       "    </tr>\n",
       "    <tr>\n",
       "      <th>1</th>\n",
       "      <td>3916</td>\n",
       "      <td>4394</td>\n",
       "      <td>192</td>\n",
       "      <td>1153</td>\n",
       "      <td>30</td>\n",
       "      <td>0</td>\n",
       "      <td>0</td>\n",
       "      <td>0</td>\n",
       "      <td>0</td>\n",
       "      <td>0</td>\n",
       "      <td>...</td>\n",
       "      <td>0</td>\n",
       "      <td>0</td>\n",
       "      <td>0</td>\n",
       "      <td>1</td>\n",
       "      <td>1</td>\n",
       "      <td>0</td>\n",
       "      <td>0</td>\n",
       "      <td>0</td>\n",
       "      <td>0</td>\n",
       "      <td>0</td>\n",
       "    </tr>\n",
       "    <tr>\n",
       "      <th>2</th>\n",
       "      <td>9700</td>\n",
       "      <td>8909</td>\n",
       "      <td>166</td>\n",
       "      <td>1006</td>\n",
       "      <td>48</td>\n",
       "      <td>0</td>\n",
       "      <td>0</td>\n",
       "      <td>0</td>\n",
       "      <td>0</td>\n",
       "      <td>0</td>\n",
       "      <td>...</td>\n",
       "      <td>0</td>\n",
       "      <td>0</td>\n",
       "      <td>0</td>\n",
       "      <td>0</td>\n",
       "      <td>0</td>\n",
       "      <td>0</td>\n",
       "      <td>0</td>\n",
       "      <td>1</td>\n",
       "      <td>0</td>\n",
       "      <td>0</td>\n",
       "    </tr>\n",
       "  </tbody>\n",
       "</table>\n",
       "<p>3 rows × 37 columns</p>\n",
       "</div>"
      ],
      "text/plain": [
       "   Total Waste (Tons)  Economic Loss (Million $)  Avg Waste per Capita (Kg)  \\\n",
       "0               19268                      18686                         72   \n",
       "1                3916                       4394                        192   \n",
       "2                9700                       8909                        166   \n",
       "\n",
       "   Population (Million)  Household Waste (%)  Country_Australia  \\\n",
       "0                    87                   53                  1   \n",
       "1                  1153                   30                  0   \n",
       "2                  1006                   48                  0   \n",
       "\n",
       "   Country_Brazil  Country_Canada  Country_China  Country_France  ...  \\\n",
       "0               0               0              0               0  ...   \n",
       "1               0               0              0               0  ...   \n",
       "2               0               0              0               0  ...   \n",
       "\n",
       "   Food Category_Fruits & Vegetables  Food Category_Grains & Cereals  \\\n",
       "0                                  1                               0   \n",
       "1                                  0                               0   \n",
       "2                                  0                               0   \n",
       "\n",
       "   Food Category_Meat & Seafood  Food Category_Prepared Food  Year_2019  \\\n",
       "0                             0                            0          1   \n",
       "1                             0                            1          1   \n",
       "2                             0                            0          0   \n",
       "\n",
       "   Year_2020  Year_2021  Year_2022  Year_2023  Year_2024  \n",
       "0          0          0          0          0          0  \n",
       "1          0          0          0          0          0  \n",
       "2          0          0          1          0          0  \n",
       "\n",
       "[3 rows x 37 columns]"
      ]
     },
     "execution_count": 117,
     "metadata": {},
     "output_type": "execute_result"
    }
   ],
   "source": [
    "df.head(3)"
   ]
  },
  {
   "cell_type": "code",
   "execution_count": 118,
   "metadata": {},
   "outputs": [
    {
     "data": {
      "text/plain": [
       "Index(['Total Waste (Tons)', 'Economic Loss (Million $)',\n",
       "       'Avg Waste per Capita (Kg)', 'Population (Million)',\n",
       "       'Household Waste (%)', 'Country_Australia', 'Country_Brazil',\n",
       "       'Country_Canada', 'Country_China', 'Country_France', 'Country_Germany',\n",
       "       'Country_India', 'Country_Indonesia', 'Country_Italy', 'Country_Japan',\n",
       "       'Country_Mexico', 'Country_Russia', 'Country_Saudi Arabia',\n",
       "       'Country_South Africa', 'Country_South Korea', 'Country_Spain',\n",
       "       'Country_Turkey', 'Country_UK', 'Country_USA',\n",
       "       'Food Category_Beverages', 'Food Category_Dairy Products',\n",
       "       'Food Category_Frozen Food', 'Food Category_Fruits & Vegetables',\n",
       "       'Food Category_Grains & Cereals', 'Food Category_Meat & Seafood',\n",
       "       'Food Category_Prepared Food', 'Year_2019', 'Year_2020', 'Year_2021',\n",
       "       'Year_2022', 'Year_2023', 'Year_2024'],\n",
       "      dtype='object')"
      ]
     },
     "execution_count": 118,
     "metadata": {},
     "output_type": "execute_result"
    }
   ],
   "source": [
    "df.columns"
   ]
  },
  {
   "cell_type": "code",
   "execution_count": 119,
   "metadata": {},
   "outputs": [
    {
     "data": {
      "text/html": [
       "<div>\n",
       "<style scoped>\n",
       "    .dataframe tbody tr th:only-of-type {\n",
       "        vertical-align: middle;\n",
       "    }\n",
       "\n",
       "    .dataframe tbody tr th {\n",
       "        vertical-align: top;\n",
       "    }\n",
       "\n",
       "    .dataframe thead th {\n",
       "        text-align: right;\n",
       "    }\n",
       "</style>\n",
       "<table border=\"1\" class=\"dataframe\">\n",
       "  <thead>\n",
       "    <tr style=\"text-align: right;\">\n",
       "      <th></th>\n",
       "      <th>Total Waste (Tons)</th>\n",
       "      <th>Economic Loss (Million $)</th>\n",
       "      <th>Avg Waste per Capita (Kg)</th>\n",
       "      <th>Population (Million)</th>\n",
       "      <th>Household Waste (%)</th>\n",
       "      <th>Country_Australia</th>\n",
       "      <th>Country_Brazil</th>\n",
       "      <th>Country_Canada</th>\n",
       "      <th>Country_China</th>\n",
       "      <th>Country_France</th>\n",
       "      <th>...</th>\n",
       "      <th>Food Category_Fruits &amp; Vegetables</th>\n",
       "      <th>Food Category_Grains &amp; Cereals</th>\n",
       "      <th>Food Category_Meat &amp; Seafood</th>\n",
       "      <th>Food Category_Prepared Food</th>\n",
       "      <th>Year_2019</th>\n",
       "      <th>Year_2020</th>\n",
       "      <th>Year_2021</th>\n",
       "      <th>Year_2022</th>\n",
       "      <th>Year_2023</th>\n",
       "      <th>Year_2024</th>\n",
       "    </tr>\n",
       "  </thead>\n",
       "  <tbody>\n",
       "    <tr>\n",
       "      <th>count</th>\n",
       "      <td>5000.000000</td>\n",
       "      <td>5000.000000</td>\n",
       "      <td>5000.000000</td>\n",
       "      <td>5000.000000</td>\n",
       "      <td>5000.000000</td>\n",
       "      <td>5000.000000</td>\n",
       "      <td>5000.00000</td>\n",
       "      <td>5000.000000</td>\n",
       "      <td>5000.000000</td>\n",
       "      <td>5000.000000</td>\n",
       "      <td>...</td>\n",
       "      <td>5000.000000</td>\n",
       "      <td>5000.000000</td>\n",
       "      <td>5000.00000</td>\n",
       "      <td>5000.00000</td>\n",
       "      <td>5000.000000</td>\n",
       "      <td>5000.000000</td>\n",
       "      <td>5000.000000</td>\n",
       "      <td>5000.000000</td>\n",
       "      <td>5000.00000</td>\n",
       "      <td>5000.000000</td>\n",
       "    </tr>\n",
       "    <tr>\n",
       "      <th>mean</th>\n",
       "      <td>25061.286400</td>\n",
       "      <td>25039.208200</td>\n",
       "      <td>108.974200</td>\n",
       "      <td>706.109400</td>\n",
       "      <td>49.566600</td>\n",
       "      <td>0.045200</td>\n",
       "      <td>0.05160</td>\n",
       "      <td>0.050800</td>\n",
       "      <td>0.052400</td>\n",
       "      <td>0.047800</td>\n",
       "      <td>...</td>\n",
       "      <td>0.124000</td>\n",
       "      <td>0.116600</td>\n",
       "      <td>0.12100</td>\n",
       "      <td>0.14220</td>\n",
       "      <td>0.138200</td>\n",
       "      <td>0.146200</td>\n",
       "      <td>0.146800</td>\n",
       "      <td>0.135600</td>\n",
       "      <td>0.14740</td>\n",
       "      <td>0.144200</td>\n",
       "    </tr>\n",
       "    <tr>\n",
       "      <th>std</th>\n",
       "      <td>14245.119449</td>\n",
       "      <td>14620.234515</td>\n",
       "      <td>51.930373</td>\n",
       "      <td>402.541131</td>\n",
       "      <td>11.594777</td>\n",
       "      <td>0.207763</td>\n",
       "      <td>0.22124</td>\n",
       "      <td>0.219611</td>\n",
       "      <td>0.222855</td>\n",
       "      <td>0.213364</td>\n",
       "      <td>...</td>\n",
       "      <td>0.329615</td>\n",
       "      <td>0.320975</td>\n",
       "      <td>0.32616</td>\n",
       "      <td>0.34929</td>\n",
       "      <td>0.345144</td>\n",
       "      <td>0.353342</td>\n",
       "      <td>0.353942</td>\n",
       "      <td>0.342398</td>\n",
       "      <td>0.35454</td>\n",
       "      <td>0.351328</td>\n",
       "    </tr>\n",
       "    <tr>\n",
       "      <th>min</th>\n",
       "      <td>502.000000</td>\n",
       "      <td>406.000000</td>\n",
       "      <td>20.000000</td>\n",
       "      <td>11.000000</td>\n",
       "      <td>30.000000</td>\n",
       "      <td>0.000000</td>\n",
       "      <td>0.00000</td>\n",
       "      <td>0.000000</td>\n",
       "      <td>0.000000</td>\n",
       "      <td>0.000000</td>\n",
       "      <td>...</td>\n",
       "      <td>0.000000</td>\n",
       "      <td>0.000000</td>\n",
       "      <td>0.00000</td>\n",
       "      <td>0.00000</td>\n",
       "      <td>0.000000</td>\n",
       "      <td>0.000000</td>\n",
       "      <td>0.000000</td>\n",
       "      <td>0.000000</td>\n",
       "      <td>0.00000</td>\n",
       "      <td>0.000000</td>\n",
       "    </tr>\n",
       "    <tr>\n",
       "      <th>25%</th>\n",
       "      <td>12783.500000</td>\n",
       "      <td>12611.750000</td>\n",
       "      <td>64.000000</td>\n",
       "      <td>350.000000</td>\n",
       "      <td>39.750000</td>\n",
       "      <td>0.000000</td>\n",
       "      <td>0.00000</td>\n",
       "      <td>0.000000</td>\n",
       "      <td>0.000000</td>\n",
       "      <td>0.000000</td>\n",
       "      <td>...</td>\n",
       "      <td>0.000000</td>\n",
       "      <td>0.000000</td>\n",
       "      <td>0.00000</td>\n",
       "      <td>0.00000</td>\n",
       "      <td>0.000000</td>\n",
       "      <td>0.000000</td>\n",
       "      <td>0.000000</td>\n",
       "      <td>0.000000</td>\n",
       "      <td>0.00000</td>\n",
       "      <td>0.000000</td>\n",
       "    </tr>\n",
       "    <tr>\n",
       "      <th>50%</th>\n",
       "      <td>24864.500000</td>\n",
       "      <td>24427.500000</td>\n",
       "      <td>110.000000</td>\n",
       "      <td>713.000000</td>\n",
       "      <td>50.000000</td>\n",
       "      <td>0.000000</td>\n",
       "      <td>0.00000</td>\n",
       "      <td>0.000000</td>\n",
       "      <td>0.000000</td>\n",
       "      <td>0.000000</td>\n",
       "      <td>...</td>\n",
       "      <td>0.000000</td>\n",
       "      <td>0.000000</td>\n",
       "      <td>0.00000</td>\n",
       "      <td>0.00000</td>\n",
       "      <td>0.000000</td>\n",
       "      <td>0.000000</td>\n",
       "      <td>0.000000</td>\n",
       "      <td>0.000000</td>\n",
       "      <td>0.00000</td>\n",
       "      <td>0.000000</td>\n",
       "    </tr>\n",
       "    <tr>\n",
       "      <th>75%</th>\n",
       "      <td>37470.500000</td>\n",
       "      <td>37145.500000</td>\n",
       "      <td>154.000000</td>\n",
       "      <td>1057.000000</td>\n",
       "      <td>60.000000</td>\n",
       "      <td>0.000000</td>\n",
       "      <td>0.00000</td>\n",
       "      <td>0.000000</td>\n",
       "      <td>0.000000</td>\n",
       "      <td>0.000000</td>\n",
       "      <td>...</td>\n",
       "      <td>0.000000</td>\n",
       "      <td>0.000000</td>\n",
       "      <td>0.00000</td>\n",
       "      <td>0.00000</td>\n",
       "      <td>0.000000</td>\n",
       "      <td>0.000000</td>\n",
       "      <td>0.000000</td>\n",
       "      <td>0.000000</td>\n",
       "      <td>0.00000</td>\n",
       "      <td>0.000000</td>\n",
       "    </tr>\n",
       "    <tr>\n",
       "      <th>max</th>\n",
       "      <td>49990.000000</td>\n",
       "      <td>59228.000000</td>\n",
       "      <td>199.000000</td>\n",
       "      <td>1399.000000</td>\n",
       "      <td>70.000000</td>\n",
       "      <td>1.000000</td>\n",
       "      <td>1.00000</td>\n",
       "      <td>1.000000</td>\n",
       "      <td>1.000000</td>\n",
       "      <td>1.000000</td>\n",
       "      <td>...</td>\n",
       "      <td>1.000000</td>\n",
       "      <td>1.000000</td>\n",
       "      <td>1.00000</td>\n",
       "      <td>1.00000</td>\n",
       "      <td>1.000000</td>\n",
       "      <td>1.000000</td>\n",
       "      <td>1.000000</td>\n",
       "      <td>1.000000</td>\n",
       "      <td>1.00000</td>\n",
       "      <td>1.000000</td>\n",
       "    </tr>\n",
       "  </tbody>\n",
       "</table>\n",
       "<p>8 rows × 37 columns</p>\n",
       "</div>"
      ],
      "text/plain": [
       "       Total Waste (Tons)  Economic Loss (Million $)  \\\n",
       "count         5000.000000                5000.000000   \n",
       "mean         25061.286400               25039.208200   \n",
       "std          14245.119449               14620.234515   \n",
       "min            502.000000                 406.000000   \n",
       "25%          12783.500000               12611.750000   \n",
       "50%          24864.500000               24427.500000   \n",
       "75%          37470.500000               37145.500000   \n",
       "max          49990.000000               59228.000000   \n",
       "\n",
       "       Avg Waste per Capita (Kg)  Population (Million)  Household Waste (%)  \\\n",
       "count                5000.000000           5000.000000          5000.000000   \n",
       "mean                  108.974200            706.109400            49.566600   \n",
       "std                    51.930373            402.541131            11.594777   \n",
       "min                    20.000000             11.000000            30.000000   \n",
       "25%                    64.000000            350.000000            39.750000   \n",
       "50%                   110.000000            713.000000            50.000000   \n",
       "75%                   154.000000           1057.000000            60.000000   \n",
       "max                   199.000000           1399.000000            70.000000   \n",
       "\n",
       "       Country_Australia  Country_Brazil  Country_Canada  Country_China  \\\n",
       "count        5000.000000      5000.00000     5000.000000    5000.000000   \n",
       "mean            0.045200         0.05160        0.050800       0.052400   \n",
       "std             0.207763         0.22124        0.219611       0.222855   \n",
       "min             0.000000         0.00000        0.000000       0.000000   \n",
       "25%             0.000000         0.00000        0.000000       0.000000   \n",
       "50%             0.000000         0.00000        0.000000       0.000000   \n",
       "75%             0.000000         0.00000        0.000000       0.000000   \n",
       "max             1.000000         1.00000        1.000000       1.000000   \n",
       "\n",
       "       Country_France  ...  Food Category_Fruits & Vegetables  \\\n",
       "count     5000.000000  ...                        5000.000000   \n",
       "mean         0.047800  ...                           0.124000   \n",
       "std          0.213364  ...                           0.329615   \n",
       "min          0.000000  ...                           0.000000   \n",
       "25%          0.000000  ...                           0.000000   \n",
       "50%          0.000000  ...                           0.000000   \n",
       "75%          0.000000  ...                           0.000000   \n",
       "max          1.000000  ...                           1.000000   \n",
       "\n",
       "       Food Category_Grains & Cereals  Food Category_Meat & Seafood  \\\n",
       "count                     5000.000000                    5000.00000   \n",
       "mean                         0.116600                       0.12100   \n",
       "std                          0.320975                       0.32616   \n",
       "min                          0.000000                       0.00000   \n",
       "25%                          0.000000                       0.00000   \n",
       "50%                          0.000000                       0.00000   \n",
       "75%                          0.000000                       0.00000   \n",
       "max                          1.000000                       1.00000   \n",
       "\n",
       "       Food Category_Prepared Food    Year_2019    Year_2020    Year_2021  \\\n",
       "count                   5000.00000  5000.000000  5000.000000  5000.000000   \n",
       "mean                       0.14220     0.138200     0.146200     0.146800   \n",
       "std                        0.34929     0.345144     0.353342     0.353942   \n",
       "min                        0.00000     0.000000     0.000000     0.000000   \n",
       "25%                        0.00000     0.000000     0.000000     0.000000   \n",
       "50%                        0.00000     0.000000     0.000000     0.000000   \n",
       "75%                        0.00000     0.000000     0.000000     0.000000   \n",
       "max                        1.00000     1.000000     1.000000     1.000000   \n",
       "\n",
       "         Year_2022   Year_2023    Year_2024  \n",
       "count  5000.000000  5000.00000  5000.000000  \n",
       "mean      0.135600     0.14740     0.144200  \n",
       "std       0.342398     0.35454     0.351328  \n",
       "min       0.000000     0.00000     0.000000  \n",
       "25%       0.000000     0.00000     0.000000  \n",
       "50%       0.000000     0.00000     0.000000  \n",
       "75%       0.000000     0.00000     0.000000  \n",
       "max       1.000000     1.00000     1.000000  \n",
       "\n",
       "[8 rows x 37 columns]"
      ]
     },
     "execution_count": 119,
     "metadata": {},
     "output_type": "execute_result"
    }
   ],
   "source": [
    "df.describe()"
   ]
  },
  {
   "cell_type": "code",
   "execution_count": 120,
   "metadata": {},
   "outputs": [],
   "source": [
    "df = pd.DataFrame(df)"
   ]
  },
  {
   "cell_type": "markdown",
   "metadata": {},
   "source": [
    "IQR Method for checking Outlier"
   ]
  },
  {
   "cell_type": "code",
   "execution_count": 121,
   "metadata": {},
   "outputs": [
    {
     "data": {
      "image/png": "[encoded data removed]",
      "text/plain": [
       "<Figure size 1200x800 with 5 Axes>"
      ]
     },
     "metadata": {},
     "output_type": "display_data"
    },
    {
     "data": {
      "image/png": "[encoded data removed]",
      "text/plain": [
       "<Figure size 1200x800 with 5 Axes>"
      ]
     },
     "metadata": {},
     "output_type": "display_data"
    }
   ],
   "source": [
    "num_cols = ['Total Waste (Tons)', 'Economic Loss (Million $)', 'Avg Waste per Capita (Kg)', 'Population (Million)', 'Household Waste (%)']\n",
    "\n",
    "plt.figure(figsize=(12, 8))\n",
    "\n",
    "for i, col in enumerate(num_cols):\n",
    "    plt.subplot(2, len(num_cols)//2 + 1, i + 1)\n",
    "    sns.boxplot(x=df[col], color='skyblue')\n",
    "    plt.title(f'Boxplot - {col}')\n",
    "\n",
    "plt.tight_layout()\n",
    "plt.show()\n",
    "\n",
    "# Distribution Plots\n",
    "plt.figure(figsize=(12, 8))\n",
    "\n",
    "for i, col in enumerate(num_cols):\n",
    "    plt.subplot(2, len(num_cols)//2 + 1, i + 1)\n",
    "    sns.histplot(df[col], bins=30, kde=True, color='salmon')\n",
    "    plt.title(f'Distribution Plot - {col}')\n",
    "\n",
    "plt.tight_layout()\n",
    "plt.show()\n"
   ]
  },
  {
   "cell_type": "markdown",
   "metadata": {},
   "source": [
    "IQR Method - Visualization"
   ]
  },
  {
   "cell_type": "code",
   "execution_count": 122,
   "metadata": {},
   "outputs": [
    {
     "data": {
      "image/png": "[encoded data removed]",
      "text/plain": [
       "<Figure size 1500x800 with 5 Axes>"
      ]
     },
     "metadata": {},
     "output_type": "display_data"
    }
   ],
   "source": [
    "import matplotlib.pyplot as plt\n",
    "import seaborn as sns\n",
    "\n",
    "plt.figure(figsize=(15, 8))\n",
    "\n",
    "for i, col in enumerate(num_cols):\n",
    "    Q1 = df[col].quantile(0.25)\n",
    "    Q3 = df[col].quantile(0.75)\n",
    "    IQR = Q3 - Q1\n",
    "    lower_bound = Q1 - 1.5 * IQR\n",
    "    upper_bound = Q3 + 1.5 * IQR\n",
    "    \n",
    "    plt.subplot(2, len(num_cols)//2 + 1, i + 1)\n",
    "    sns.boxplot(x=df[col], color='lightblue')\n",
    "    plt.axvline(lower_bound, color='red', linestyle='--')\n",
    "    plt.axvline(upper_bound, color='red', linestyle='--')\n",
    "    plt.title(f'Outliers - {col}')\n",
    "\n",
    "plt.tight_layout()\n",
    "plt.show()\n"
   ]
  },
  {
   "cell_type": "code",
   "execution_count": 123,
   "metadata": {},
   "outputs": [
    {
     "name": "stdout",
     "output_type": "stream",
     "text": [
      "Outliers in 'Total Waste (Tons)': 0\n",
      "Empty DataFrame\n",
      "Columns: [Total Waste (Tons)]\n",
      "Index: []\n",
      "--------------------------------------------------\n",
      "Outliers in 'Economic Loss (Million $)': 0\n",
      "Empty DataFrame\n",
      "Columns: [Economic Loss (Million $)]\n",
      "Index: []\n",
      "--------------------------------------------------\n",
      "Outliers in 'Avg Waste per Capita (Kg)': 0\n",
      "Empty DataFrame\n",
      "Columns: [Avg Waste per Capita (Kg)]\n",
      "Index: []\n",
      "--------------------------------------------------\n",
      "Outliers in 'Population (Million)': 0\n",
      "Empty DataFrame\n",
      "Columns: [Population (Million)]\n",
      "Index: []\n",
      "--------------------------------------------------\n",
      "Outliers in 'Household Waste (%)': 0\n",
      "Empty DataFrame\n",
      "Columns: [Household Waste (%)]\n",
      "Index: []\n",
      "--------------------------------------------------\n"
     ]
    }
   ],
   "source": [
    "import pandas as pd\n",
    "\n",
    "# Define numeric columns for checking outliers\n",
    "num_cols = ['Total Waste (Tons)', 'Economic Loss (Million $)', 'Avg Waste per Capita (Kg)', 'Population (Million)', 'Household Waste (%)']\n",
    "\n",
    "for col in num_cols:\n",
    "    Q1 = df[col].quantile(0.25)\n",
    "    Q3 = df[col].quantile(0.75)\n",
    "    IQR = Q3 - Q1\n",
    "    \n",
    "    lower_bound = Q1 - 1.5 * IQR\n",
    "    upper_bound = Q3 + 1.5 * IQR\n",
    "    \n",
    "    outliers = df[(df[col] < lower_bound) | (df[col] > upper_bound)]\n",
    "    \n",
    "    print(f\"Outliers in '{col}': {len(outliers)}\")\n",
    "    print(outliers[[col]])\n",
    "    print(\"-\" * 50)\n"
   ]
  },
  {
   "cell_type": "code",
   "execution_count": 124,
   "metadata": {},
   "outputs": [],
   "source": [
    "from sklearn.preprocessing import StandardScaler\n",
    "scaler = StandardScaler()\n",
    "\n",
    "num_cols = ['Total Waste (Tons)', 'Economic Loss (Million $)', 'Avg Waste per Capita (Kg)', 'Population (Million)', 'Household Waste (%)']\n",
    "\n",
    "df[num_cols] = scaler.fit_transform(df[num_cols])"
   ]
  },
  {
   "cell_type": "code",
   "execution_count": 125,
   "metadata": {},
   "outputs": [
    {
     "data": {
      "text/html": [
       "<div>\n",
       "<style scoped>\n",
       "    .dataframe tbody tr th:only-of-type {\n",
       "        vertical-align: middle;\n",
       "    }\n",
       "\n",
       "    .dataframe tbody tr th {\n",
       "        vertical-align: top;\n",
       "    }\n",
       "\n",
       "    .dataframe thead th {\n",
       "        text-align: right;\n",
       "    }\n",
       "</style>\n",
       "<table border=\"1\" class=\"dataframe\">\n",
       "  <thead>\n",
       "    <tr style=\"text-align: right;\">\n",
       "      <th></th>\n",
       "      <th>Total Waste (Tons)</th>\n",
       "      <th>Economic Loss (Million $)</th>\n",
       "      <th>Avg Waste per Capita (Kg)</th>\n",
       "      <th>Population (Million)</th>\n",
       "      <th>Household Waste (%)</th>\n",
       "      <th>Country_Australia</th>\n",
       "      <th>Country_Brazil</th>\n",
       "      <th>Country_Canada</th>\n",
       "      <th>Country_China</th>\n",
       "      <th>Country_France</th>\n",
       "      <th>...</th>\n",
       "      <th>Food Category_Fruits &amp; Vegetables</th>\n",
       "      <th>Food Category_Grains &amp; Cereals</th>\n",
       "      <th>Food Category_Meat &amp; Seafood</th>\n",
       "      <th>Food Category_Prepared Food</th>\n",
       "      <th>Year_2019</th>\n",
       "      <th>Year_2020</th>\n",
       "      <th>Year_2021</th>\n",
       "      <th>Year_2022</th>\n",
       "      <th>Year_2023</th>\n",
       "      <th>Year_2024</th>\n",
       "    </tr>\n",
       "  </thead>\n",
       "  <tbody>\n",
       "    <tr>\n",
       "      <th>0</th>\n",
       "      <td>-0.406726</td>\n",
       "      <td>-0.434592</td>\n",
       "      <td>-0.712067</td>\n",
       "      <td>-1.538157</td>\n",
       "      <td>0.296146</td>\n",
       "      <td>1</td>\n",
       "      <td>0</td>\n",
       "      <td>0</td>\n",
       "      <td>0</td>\n",
       "      <td>0</td>\n",
       "      <td>...</td>\n",
       "      <td>1</td>\n",
       "      <td>0</td>\n",
       "      <td>0</td>\n",
       "      <td>0</td>\n",
       "      <td>1</td>\n",
       "      <td>0</td>\n",
       "      <td>0</td>\n",
       "      <td>0</td>\n",
       "      <td>0</td>\n",
       "      <td>0</td>\n",
       "    </tr>\n",
       "    <tr>\n",
       "      <th>1</th>\n",
       "      <td>-1.484537</td>\n",
       "      <td>-1.412240</td>\n",
       "      <td>1.598951</td>\n",
       "      <td>1.110285</td>\n",
       "      <td>-1.687704</td>\n",
       "      <td>0</td>\n",
       "      <td>0</td>\n",
       "      <td>0</td>\n",
       "      <td>0</td>\n",
       "      <td>0</td>\n",
       "      <td>...</td>\n",
       "      <td>0</td>\n",
       "      <td>0</td>\n",
       "      <td>0</td>\n",
       "      <td>1</td>\n",
       "      <td>1</td>\n",
       "      <td>0</td>\n",
       "      <td>0</td>\n",
       "      <td>0</td>\n",
       "      <td>0</td>\n",
       "      <td>0</td>\n",
       "    </tr>\n",
       "    <tr>\n",
       "      <th>2</th>\n",
       "      <td>-1.078462</td>\n",
       "      <td>-1.103390</td>\n",
       "      <td>1.098230</td>\n",
       "      <td>0.745068</td>\n",
       "      <td>-0.135126</td>\n",
       "      <td>0</td>\n",
       "      <td>0</td>\n",
       "      <td>0</td>\n",
       "      <td>0</td>\n",
       "      <td>0</td>\n",
       "      <td>...</td>\n",
       "      <td>0</td>\n",
       "      <td>0</td>\n",
       "      <td>0</td>\n",
       "      <td>0</td>\n",
       "      <td>0</td>\n",
       "      <td>0</td>\n",
       "      <td>0</td>\n",
       "      <td>1</td>\n",
       "      <td>0</td>\n",
       "      <td>0</td>\n",
       "    </tr>\n",
       "  </tbody>\n",
       "</table>\n",
       "<p>3 rows × 37 columns</p>\n",
       "</div>"
      ],
      "text/plain": [
       "   Total Waste (Tons)  Economic Loss (Million $)  Avg Waste per Capita (Kg)  \\\n",
       "0           -0.406726                  -0.434592                  -0.712067   \n",
       "1           -1.484537                  -1.412240                   1.598951   \n",
       "2           -1.078462                  -1.103390                   1.098230   \n",
       "\n",
       "   Population (Million)  Household Waste (%)  Country_Australia  \\\n",
       "0             -1.538157             0.296146                  1   \n",
       "1              1.110285            -1.687704                  0   \n",
       "2              0.745068            -0.135126                  0   \n",
       "\n",
       "   Country_Brazil  Country_Canada  Country_China  Country_France  ...  \\\n",
       "0               0               0              0               0  ...   \n",
       "1               0               0              0               0  ...   \n",
       "2               0               0              0               0  ...   \n",
       "\n",
       "   Food Category_Fruits & Vegetables  Food Category_Grains & Cereals  \\\n",
       "0                                  1                               0   \n",
       "1                                  0                               0   \n",
       "2                                  0                               0   \n",
       "\n",
       "   Food Category_Meat & Seafood  Food Category_Prepared Food  Year_2019  \\\n",
       "0                             0                            0          1   \n",
       "1                             0                            1          1   \n",
       "2                             0                            0          0   \n",
       "\n",
       "   Year_2020  Year_2021  Year_2022  Year_2023  Year_2024  \n",
       "0          0          0          0          0          0  \n",
       "1          0          0          0          0          0  \n",
       "2          0          0          1          0          0  \n",
       "\n",
       "[3 rows x 37 columns]"
      ]
     },
     "execution_count": 125,
     "metadata": {},
     "output_type": "execute_result"
    }
   ],
   "source": [
    "df.head(3)"
   ]
  },
  {
   "cell_type": "code",
   "execution_count": null,
   "metadata": {},
   "outputs": [],
   "source": []
  },
  {
   "cell_type": "markdown",
   "metadata": {},
   "source": [
    "# Feature Engineering"
   ]
  },
  {
   "cell_type": "code",
   "execution_count": 126,
   "metadata": {},
   "outputs": [
    {
     "name": "stdout",
     "output_type": "stream",
     "text": [
      "Zero or Negative values in 'Economic Loss (Million $)':\n",
      "      Total Waste (Tons)  Economic Loss (Million $)  \\\n",
      "0              -0.406726                  -0.434592   \n",
      "1              -1.484537                  -1.412240   \n",
      "2              -1.078462                  -1.103390   \n",
      "5              -0.919655                  -0.946947   \n",
      "7              -0.861454                  -0.876011   \n",
      "...                  ...                        ...   \n",
      "4989           -1.483905                  -1.405057   \n",
      "4990           -0.229385                  -0.141955   \n",
      "4991            0.106834                  -0.101049   \n",
      "4997           -0.310403                  -0.174721   \n",
      "4999           -1.137436                  -1.209350   \n",
      "\n",
      "      Avg Waste per Capita (Kg)  Population (Million)  Household Waste (%)  \\\n",
      "0                     -0.712067             -1.538157             0.296146   \n",
      "1                      1.598951              1.110285            -1.687704   \n",
      "2                      1.098230              0.745068            -0.135126   \n",
      "5                      0.520476              1.502831            -1.083924   \n",
      "7                     -0.365414              1.299104             0.813672   \n",
      "...                         ...                   ...                  ...   \n",
      "4989                  -1.193529             -1.558032            -0.997670   \n",
      "4990                  -0.365414              0.049418             0.899926   \n",
      "4991                   0.308633             -0.335675            -1.601450   \n",
      "4997                  -1.694249             -1.714554            -1.601450   \n",
      "4999                  -1.116495              0.429541             0.382400   \n",
      "\n",
      "      Country_Australia  Country_Brazil  Country_Canada  Country_China  \\\n",
      "0                     1               0               0              0   \n",
      "1                     0               0               0              0   \n",
      "2                     0               0               0              0   \n",
      "5                     0               0               0              0   \n",
      "7                     0               0               0              1   \n",
      "...                 ...             ...             ...            ...   \n",
      "4989                  0               0               0              0   \n",
      "4990                  0               0               0              0   \n",
      "4991                  0               0               0              0   \n",
      "4997                  0               0               0              1   \n",
      "4999                  0               0               0              0   \n",
      "\n",
      "      Country_France  ...  Food Category_Fruits & Vegetables  \\\n",
      "0                  0  ...                                  1   \n",
      "1                  0  ...                                  0   \n",
      "2                  0  ...                                  0   \n",
      "5                  0  ...                                  1   \n",
      "7                  0  ...                                  1   \n",
      "...              ...  ...                                ...   \n",
      "4989               0  ...                                  0   \n",
      "4990               0  ...                                  0   \n",
      "4991               1  ...                                  0   \n",
      "4997               0  ...                                  0   \n",
      "4999               1  ...                                  0   \n",
      "\n",
      "      Food Category_Grains & Cereals  Food Category_Meat & Seafood  \\\n",
      "0                                  0                             0   \n",
      "1                                  0                             0   \n",
      "2                                  0                             0   \n",
      "5                                  0                             0   \n",
      "7                                  0                             0   \n",
      "...                              ...                           ...   \n",
      "4989                               0                             1   \n",
      "4990                               0                             0   \n",
      "4991                               0                             1   \n",
      "4997                               0                             1   \n",
      "4999                               0                             0   \n",
      "\n",
      "      Food Category_Prepared Food  Year_2019  Year_2020  Year_2021  Year_2022  \\\n",
      "0                               0          1          0          0          0   \n",
      "1                               1          1          0          0          0   \n",
      "2                               0          0          0          0          1   \n",
      "5                               0          0          0          0          0   \n",
      "7                               0          1          0          0          0   \n",
      "...                           ...        ...        ...        ...        ...   \n",
      "4989                            0          0          0          0          1   \n",
      "4990                            0          0          0          1          0   \n",
      "4991                            0          1          0          0          0   \n",
      "4997                            0          0          0          0          0   \n",
      "4999                            0          0          0          0          0   \n",
      "\n",
      "      Year_2023  Year_2024  \n",
      "0             0          0  \n",
      "1             0          0  \n",
      "2             0          0  \n",
      "5             0          1  \n",
      "7             0          0  \n",
      "...         ...        ...  \n",
      "4989          0          0  \n",
      "4990          0          0  \n",
      "4991          0          0  \n",
      "4997          0          0  \n",
      "4999          0          1  \n",
      "\n",
      "[2567 rows x 37 columns]\n"
     ]
    }
   ],
   "source": [
    "print(\"Zero or Negative values in 'Economic Loss (Million $)':\")\n",
    "print(df[df['Economic Loss (Million $)'] <= 0])\n"
   ]
  },
  {
   "cell_type": "code",
   "execution_count": 127,
   "metadata": {},
   "outputs": [],
   "source": [
    "df['Loss_per_Capita'] = df['Economic Loss (Million $)'] / df['Population (Million)']"
   ]
  },
  {
   "cell_type": "markdown",
   "metadata": {},
   "source": [
    "Log Transformation: If any feature is skewed, apply log transformation."
   ]
  },
  {
   "cell_type": "code",
   "execution_count": 128,
   "metadata": {},
   "outputs": [],
   "source": [
    "df['Economic Loss (Million $)'] = df['Economic Loss (Million $)'].apply(lambda x: x if x > 0 else 1e-6)\n",
    "df['Log_Economic_Loss'] = np.log1p(df['Economic Loss (Million $)'])\n"
   ]
  },
  {
   "cell_type": "markdown",
   "metadata": {},
   "source": [
    "Polynomial Features: Use polynomial features for higher-order relationships."
   ]
  },
  {
   "cell_type": "code",
   "execution_count": 129,
   "metadata": {},
   "outputs": [],
   "source": [
    "from sklearn.preprocessing import PolynomialFeatures\n",
    "\n",
    "poly = PolynomialFeatures(degree=2, interaction_only=True)\n",
    "poly_features = poly.fit_transform(df[num_cols])\n"
   ]
  },
  {
   "cell_type": "code",
   "execution_count": 130,
   "metadata": {},
   "outputs": [
    {
     "data": {
      "text/html": [
       "<div>\n",
       "<style scoped>\n",
       "    .dataframe tbody tr th:only-of-type {\n",
       "        vertical-align: middle;\n",
       "    }\n",
       "\n",
       "    .dataframe tbody tr th {\n",
       "        vertical-align: top;\n",
       "    }\n",
       "\n",
       "    .dataframe thead th {\n",
       "        text-align: right;\n",
       "    }\n",
       "</style>\n",
       "<table border=\"1\" class=\"dataframe\">\n",
       "  <thead>\n",
       "    <tr style=\"text-align: right;\">\n",
       "      <th></th>\n",
       "      <th>Total Waste (Tons)</th>\n",
       "      <th>Economic Loss (Million $)</th>\n",
       "      <th>Avg Waste per Capita (Kg)</th>\n",
       "      <th>Population (Million)</th>\n",
       "      <th>Household Waste (%)</th>\n",
       "      <th>Country_Australia</th>\n",
       "      <th>Country_Brazil</th>\n",
       "      <th>Country_Canada</th>\n",
       "      <th>Country_China</th>\n",
       "      <th>Country_France</th>\n",
       "      <th>...</th>\n",
       "      <th>Food Category_Meat &amp; Seafood</th>\n",
       "      <th>Food Category_Prepared Food</th>\n",
       "      <th>Year_2019</th>\n",
       "      <th>Year_2020</th>\n",
       "      <th>Year_2021</th>\n",
       "      <th>Year_2022</th>\n",
       "      <th>Year_2023</th>\n",
       "      <th>Year_2024</th>\n",
       "      <th>Loss_per_Capita</th>\n",
       "      <th>Log_Economic_Loss</th>\n",
       "    </tr>\n",
       "  </thead>\n",
       "  <tbody>\n",
       "    <tr>\n",
       "      <th>0</th>\n",
       "      <td>-0.406726</td>\n",
       "      <td>0.000001</td>\n",
       "      <td>-0.712067</td>\n",
       "      <td>-1.538157</td>\n",
       "      <td>0.296146</td>\n",
       "      <td>1</td>\n",
       "      <td>0</td>\n",
       "      <td>0</td>\n",
       "      <td>0</td>\n",
       "      <td>0</td>\n",
       "      <td>...</td>\n",
       "      <td>0</td>\n",
       "      <td>0</td>\n",
       "      <td>1</td>\n",
       "      <td>0</td>\n",
       "      <td>0</td>\n",
       "      <td>0</td>\n",
       "      <td>0</td>\n",
       "      <td>0</td>\n",
       "      <td>0.282541</td>\n",
       "      <td>9.999995e-07</td>\n",
       "    </tr>\n",
       "    <tr>\n",
       "      <th>1</th>\n",
       "      <td>-1.484537</td>\n",
       "      <td>0.000001</td>\n",
       "      <td>1.598951</td>\n",
       "      <td>1.110285</td>\n",
       "      <td>-1.687704</td>\n",
       "      <td>0</td>\n",
       "      <td>0</td>\n",
       "      <td>0</td>\n",
       "      <td>0</td>\n",
       "      <td>0</td>\n",
       "      <td>...</td>\n",
       "      <td>0</td>\n",
       "      <td>1</td>\n",
       "      <td>1</td>\n",
       "      <td>0</td>\n",
       "      <td>0</td>\n",
       "      <td>0</td>\n",
       "      <td>0</td>\n",
       "      <td>0</td>\n",
       "      <td>-1.271962</td>\n",
       "      <td>9.999995e-07</td>\n",
       "    </tr>\n",
       "    <tr>\n",
       "      <th>2</th>\n",
       "      <td>-1.078462</td>\n",
       "      <td>0.000001</td>\n",
       "      <td>1.098230</td>\n",
       "      <td>0.745068</td>\n",
       "      <td>-0.135126</td>\n",
       "      <td>0</td>\n",
       "      <td>0</td>\n",
       "      <td>0</td>\n",
       "      <td>0</td>\n",
       "      <td>0</td>\n",
       "      <td>...</td>\n",
       "      <td>0</td>\n",
       "      <td>0</td>\n",
       "      <td>0</td>\n",
       "      <td>0</td>\n",
       "      <td>0</td>\n",
       "      <td>1</td>\n",
       "      <td>0</td>\n",
       "      <td>0</td>\n",
       "      <td>-1.480925</td>\n",
       "      <td>9.999995e-07</td>\n",
       "    </tr>\n",
       "  </tbody>\n",
       "</table>\n",
       "<p>3 rows × 39 columns</p>\n",
       "</div>"
      ],
      "text/plain": [
       "   Total Waste (Tons)  Economic Loss (Million $)  Avg Waste per Capita (Kg)  \\\n",
       "0           -0.406726                   0.000001                  -0.712067   \n",
       "1           -1.484537                   0.000001                   1.598951   \n",
       "2           -1.078462                   0.000001                   1.098230   \n",
       "\n",
       "   Population (Million)  Household Waste (%)  Country_Australia  \\\n",
       "0             -1.538157             0.296146                  1   \n",
       "1              1.110285            -1.687704                  0   \n",
       "2              0.745068            -0.135126                  0   \n",
       "\n",
       "   Country_Brazil  Country_Canada  Country_China  Country_France  ...  \\\n",
       "0               0               0              0               0  ...   \n",
       "1               0               0              0               0  ...   \n",
       "2               0               0              0               0  ...   \n",
       "\n",
       "   Food Category_Meat & Seafood  Food Category_Prepared Food  Year_2019  \\\n",
       "0                             0                            0          1   \n",
       "1                             0                            1          1   \n",
       "2                             0                            0          0   \n",
       "\n",
       "   Year_2020  Year_2021  Year_2022  Year_2023  Year_2024  Loss_per_Capita  \\\n",
       "0          0          0          0          0          0         0.282541   \n",
       "1          0          0          0          0          0        -1.271962   \n",
       "2          0          0          1          0          0        -1.480925   \n",
       "\n",
       "   Log_Economic_Loss  \n",
       "0       9.999995e-07  \n",
       "1       9.999995e-07  \n",
       "2       9.999995e-07  \n",
       "\n",
       "[3 rows x 39 columns]"
      ]
     },
     "execution_count": 130,
     "metadata": {},
     "output_type": "execute_result"
    }
   ],
   "source": [
    "df.head(3)"
   ]
  },
  {
   "cell_type": "markdown",
   "metadata": {},
   "source": [
    "# Model Training"
   ]
  },
  {
   "cell_type": "code",
   "execution_count": 131,
   "metadata": {},
   "outputs": [],
   "source": [
    "from sklearn.model_selection import train_test_split\n",
    "\n",
    "X = df.drop('Total Waste (Tons)', axis=1)  # Assuming it's the target variable\n",
    "y = df['Total Waste (Tons)']\n",
    "\n",
    "X_train, X_test, y_train, y_test = train_test_split(X, y, test_size=0.3, random_state=42)\n"
   ]
  },
  {
   "cell_type": "markdown",
   "metadata": {},
   "source": [
    "Choose a model"
   ]
  },
  {
   "cell_type": "code",
   "execution_count": 132,
   "metadata": {},
   "outputs": [
    {
     "name": "stdout",
     "output_type": "stream",
     "text": [
      "MSE: 0.21175389617557053\n",
      "R2 Score: 0.7993948682864519\n"
     ]
    }
   ],
   "source": [
    "from sklearn.linear_model import LinearRegression\n",
    "from sklearn.metrics import mean_squared_error, r2_score\n",
    "\n",
    "model = LinearRegression()\n",
    "model.fit(X_train, y_train)\n",
    "\n",
    "y_pred = model.predict(X_test)\n",
    "\n",
    "print(\"MSE:\", mean_squared_error(y_test, y_pred))\n",
    "print(\"R2 Score:\", r2_score(y_test, y_pred))\n"
   ]
  },
  {
   "cell_type": "markdown",
   "metadata": {},
   "source": [
    "trying another model"
   ]
  },
  {
   "cell_type": "code",
   "execution_count": 133,
   "metadata": {},
   "outputs": [
    {
     "name": "stdout",
     "output_type": "stream",
     "text": [
      "Requirement already satisfied: lightgbm in c:\\users\\amit panchal\\anaconda3\\lib\\site-packages (4.6.0)\n",
      "Requirement already satisfied: numpy>=1.17.0 in c:\\users\\amit panchal\\anaconda3\\lib\\site-packages (from lightgbm) (1.26.4)\n",
      "Requirement already satisfied: scipy in c:\\users\\amit panchal\\anaconda3\\lib\\site-packages (from lightgbm) (1.13.1)\n"
     ]
    }
   ],
   "source": [
    "!pip install lightgbm"
   ]
  },
  {
   "cell_type": "code",
   "execution_count": null,
   "metadata": {},
   "outputs": [
    {
     "data": {
      "text/plain": [
       "['rf_model.pkl']"
      ]
     },
     "execution_count": 139,
     "metadata": {},
     "output_type": "execute_result"
    }
   ],
   "source": [
    "from sklearn.ensemble import RandomForestRegressor\n",
    "\n",
    "model = RandomForestRegressor()\n",
    "model.fit(X_train, y_train)\n",
    "\n",
    "\n",
    "\n"
   ]
  },
  {
   "cell_type": "code",
   "execution_count": 140,
   "metadata": {},
   "outputs": [],
   "source": [
    "import joblib"
   ]
  },
  {
   "cell_type": "code",
   "execution_count": 141,
   "metadata": {},
   "outputs": [
    {
     "name": "stdout",
     "output_type": "stream",
     "text": [
      "Model saved Successfully\n"
     ]
    }
   ],
   "source": [
    "joblib.dump(model, 'rf_model.pkl')\n",
    "print(\"Model saved Successfully\")"
   ]
  },
  {
   "cell_type": "code",
   "execution_count": 142,
   "metadata": {},
   "outputs": [
    {
     "name": "stdout",
     "output_type": "stream",
     "text": [
      "Name: scikit-learn\n",
      "Version: 1.3.2\n",
      "Summary: A set of python modules for machine learning and data mining\n",
      "Home-page: http://scikit-learn.org\n",
      "Author: \n",
      "Author-email: \n",
      "License: new BSD\n",
      "Location: C:\\Users\\Amit Panchal\\anaconda3\\Lib\\site-packages\n",
      "Requires: joblib, numpy, scipy, threadpoolctl\n",
      "Required-by: imbalanced-learn, sentence-transformers\n"
     ]
    }
   ],
   "source": [
    "!pip show scikit-learn\n"
   ]
  },
  {
   "cell_type": "code",
   "execution_count": null,
   "metadata": {},
   "outputs": [],
   "source": []
  }
 ],
 "metadata": {
  "kernelspec": {
   "display_name": "base",
   "language": "python",
   "name": "python3"
  },
  "language_info": {
   "codemirror_mode": {
    "name": "ipython",
    "version": 3
   },
   "file_extension": ".py",
   "mimetype": "text/x-python",
   "name": "python",
   "nbconvert_exporter": "python",
   "pygments_lexer": "ipython3",
   "version": "3.12.7"
  }
 },
 "nbformat": 4,
 "nbformat_minor": 2
}
